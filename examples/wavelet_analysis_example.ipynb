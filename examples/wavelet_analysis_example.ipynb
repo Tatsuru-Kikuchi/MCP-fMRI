{
 "cells": [
  {
   "cell_type": "markdown",
   "metadata": {},
   "source": [
    "# Wavelet Analysis for Mathematical Cognition fMRI Study\n",
    "\n",
    "This notebook demonstrates how to use the wavelet analysis module to identify brain regions activated during mathematical tasks.\n",
    "\n",
    "**Study Focus:** Ethical analysis emphasizing neural similarities in mathematical cognition\n",
    "\n",
    "**Key Features:**\n",
    "- Time-frequency decomposition of BOLD signals\n",
    "- Multi-band activation detection\n",
    "- Statistical significance mapping\n",
    "- Interactive brain visualizations\n",
    "- Ethical reporting framework"
   ]
  },
  {
   "cell_type": "markdown",
   "metadata": {},
   "source": [
    "## 1. Setup and Imports"
   ]
  },
  {
   "cell_type": "code",
   "execution_count": null,
   "metadata": {},
   "outputs": [],
   "source": [
    "# Import necessary libraries\n",
    "import numpy as np\n",
    "import pandas as pd\n",
    "import matplotlib.pyplot as plt\n",
    "import seaborn as sns\n",
    "import sys\n",
    "import os\n",
    "\n",
    "# Add src directory to path\n",
    "sys.path.append('../src')\n",
    "\n",
    "# Import our custom modules\n",
    "from wavelet_analysis import WaveletfMRIAnalyzer\n",
    "from brain_visualization import BrainActivationVisualizer\n",
    "\n",
    "# Set up plotting\n",
    "plt.style.use('seaborn-v0_8')\n",
    "sns.set_palette(\"husl\")\n",
    "%matplotlib inline\n",
    "\n",
    "print(\"Setup complete! Ready for wavelet analysis.\")"
   ]
  },
  {
   "cell_type": "markdown",
   "metadata": {},
   "source": [
    "## 2. Initialize Wavelet Analyzer\n",
    "\n",
    "We'll set up our analyzer with ethical reporting enabled to emphasize similarities over differences."
   ]
  },
  {
   "cell_type": "code",
   "execution_count": null,
   "metadata": {},
   "outputs": [],
   "source": [
    "# Initialize the wavelet analyzer\n",
    "analyzer = WaveletfMRIAnalyzer(\n",
    "    wavelet='morlet',           # Morlet wavelet good for time-frequency analysis\n",
    "    sampling_rate=0.5,          # Typical fMRI sampling rate (TR=2s)\n",
    "    ethical_reporting=True      # Emphasize similarities over differences\n",
    ")\n",
    "\n",
    "print(f\"Analyzer initialized with {analyzer.wavelet} wavelet\")\n",
    "print(f\"Sampling rate: {analyzer.sampling_rate} Hz\")\n",
    "print(f\"Frequency bands: {analyzer.frequency_bands}\")"
   ]
  },
  {
   "cell_type": "markdown",
   "metadata": {},
   "source": [
    "## 3. Load fMRI Data\n",
    "\n",
    "For this example, we'll use synthetic data that simulates brain activation during mathematical tasks."
   ]
  },
  {
   "cell_type": "code",
   "execution_count": null,
   "metadata": {},
   "outputs": [],
   "source": [
    "# Option 1: Load from NIfTI file (uncomment if you have real data)\n",
    "# time_series = analyzer.load_fmri_data(nifti_path='path/to/your/fmri_data.nii.gz')\n",
    "\n",
    "# Option 2: Use synthetic data for demonstration\n",
    "time_series = analyzer.load_fmri_data()\n",
    "\n",
    "print(f\"Data loaded: {time_series.shape[0]} voxels, {time_series.shape[1]} timepoints\")\n",
    "print(f\"Duration: {time_series.shape[1] / analyzer.sampling_rate:.1f} seconds\")\n",
    "\n",
    "# Visualize sample time series\n",
    "plt.figure(figsize=(12, 6))\n",
    "sample_voxels = np.random.choice(time_series.shape[0], 5, replace=False)\n",
    "time_points = np.linspace(0, time_series.shape[1]/analyzer.sampling_rate, time_series.shape[1])\n",
    "\n",
    "for i, voxel_idx in enumerate(sample_voxels):\n",
    "    plt.plot(time_points, time_series[voxel_idx, :] + i*2, \n",
    "             label=f'Voxel {voxel_idx}', alpha=0.8)\n",
    "\n",
    "plt.xlabel('Time (seconds)')\n",
    "plt.ylabel('BOLD Signal + Offset')\n",
    "plt.title('Sample fMRI Time Series')\n",
    "plt.legend()\n",
    "plt.grid(True, alpha=0.3)\n",
    "plt.tight_layout()\n",
    "plt.show()"
   ]
  },
  {
   "cell_type": "markdown",
   "metadata": {},
   "source": [
    "## 4. Mathematical Task Analysis\n",
    "\n",
    "Now we'll analyze brain activation during mathematical tasks using wavelet decomposition."
   ]
  },
  {
   "cell_type": "code",
   "execution_count": null,
   "metadata": {},
   "outputs": [],
   "source": [
    "# Define mathematical task parameters\n",
    "task_onsets = [30, 80, 130, 180]  # When math problems were presented (seconds)\n",
    "baseline_duration = 10.0          # Duration before task to use as baseline\n",
    "activation_duration = 15.0        # Duration after task onset to analyze\n",
    "\n",
    "print(f\"Analyzing mathematical tasks at: {task_onsets} seconds\")\n",
    "print(f\"Baseline duration: {baseline_duration}s\")\n",
    "print(f\"Activation window: {activation_duration}s\")\n",
    "\n",
    "# Run the wavelet analysis\n",
    "print(\"\\nRunning wavelet analysis...\")\n",
    "activation_results = analyzer.analyze_math_activation(\n",
    "    task_onsets=task_onsets,\n",
    "    baseline_duration=baseline_duration,\n",
    "    activation_duration=activation_duration\n",
    ")\n",
    "\n",
    "print(\"\\nAnalysis complete!\")\n",
    "print(f\"Frequency bands analyzed: {list(activation_results['activation_maps'].keys())}\")"
   ]
  },
  {
   "cell_type": "markdown",
   "metadata": {},
   "source": [
    "## 5. Brain Region Detection\n",
    "\n",
    "Identify specific brain regions that show significant activation during mathematical tasks."
   ]
  },
  {
   "cell_type": "code",
   "execution_count": null,
   "metadata": {},
   "outputs": [],
   "source": [
    "# Detect activated brain regions\n",
    "detected_regions = analyzer.detect_math_regions(\n",
    "    threshold_percentile=95,  # Use 95th percentile as threshold\n",
    "    min_cluster_size=10       # Minimum 10 voxels for a region\n",
    ")\n",
    "\n",
    "# Display results\n",
    "print(\"DETECTED BRAIN REGIONS:\")\n",
    "print(\"=\" * 50)\n",
    "\n",
    "for band_name, regions in detected_regions.items():\n",
    "    print(f\"\\n{band_name.upper()} BAND:\")\n",
    "    print(f\"  • Number of activated clusters: {regions['n_clusters']}\")\n",
    "    print(f\"  • Total activated voxels: {regions['total_voxels']}\")\n",
    "    print(f\"  • Mean activation strength: {regions['mean_activation']:.4f}\")\n",
    "    print(f\"  • Peak activation: {regions['peak_activation']:.4f}\")\n",
    "    \n",
    "    if regions['clusters']:\n",
    "        print(f\"  • Largest cluster size: {max(cluster['size'] for cluster in regions['clusters'])}\")\n",
    "\n",
    "# Create summary DataFrame\n",
    "summary_data = []\n",
    "for band_name, regions in detected_regions.items():\n",
    "    summary_data.append({\n",
    "        'Frequency Band': band_name.title(),\n",
    "        'Clusters': regions['n_clusters'],\n",
    "        'Active Voxels': regions['total_voxels'],\n",
    "        'Mean Activation': f\"{regions['mean_activation']:.4f}\",\n",
    "        'Peak Activation': f\"{regions['peak_activation']:.4f}\"\n",
    "    })\n",
    "\n",
    "summary_df = pd.DataFrame(summary_data)\n",
    "print(\"\\nSUMMARY TABLE:\")\n",
    "print(summary_df.to_string(index=False))"
   ]
  },
  {
   "cell_type": "markdown",
   "metadata": {},
   "source": [
    "## 6. Visualize Results\n",
    "\n",
    "Create comprehensive visualizations of the wavelet analysis results."
   ]
  },
  {
   "cell_type": "code",
   "execution_count": null,
   "metadata": {},
   "outputs": [],
   "source": [
    "# Create main visualization\n",
    "print(\"Creating wavelet analysis visualizations...\")\n",
    "analyzer.visualize_results(figsize=(16, 12))\n",
    "\n",
    "# Initialize brain visualizer\n",
    "visualizer = BrainActivationVisualizer(ethical_reporting=True)\n",
    "\n",
    "# Create additional specialized plots\n",
    "print(\"\\nCreating frequency spectrum analysis...\")\n",
    "visualizer.plot_frequency_spectrum(activation_results)\n",
    "\n",
    "print(\"\\nCreating brain connectivity analysis...\")\n",
    "visualizer.plot_brain_connectivity(activation_results)\n",
    "\n",
    "print(\"\\nCreating statistical significance maps...\")\n",
    "visualizer.plot_statistical_maps(activation_results, threshold=2.0)"
   ]
  },
  {
   "cell_type": "markdown",
   "metadata": {},
   "source": [
    "## 7. Interactive 3D Brain Visualization\n",
    "\n",
    "Create an interactive 3D brain map showing activation patterns."
   ]
  },
  {
   "cell_type": "code",
   "execution_count": null,
   "metadata": {},
   "outputs": [],
   "source": [
    "# Create interactive 3D brain visualization\n",
    "print(\"Creating interactive 3D brain visualization...\")\n",
    "brain_3d = visualizer.create_interactive_3d_brain(activation_results)\n",
    "\n",
    "# Display the interactive plot\n",
    "brain_3d.show()\n",
    "\n",
    "# Save as HTML file\n",
    "brain_3d.write_html(\"../results/interactive_brain_3d.html\")\n",
    "print(\"3D brain visualization saved to '../results/interactive_brain_3d.html'\")"
   ]
  },
  {
   "cell_type": "markdown",
   "metadata": {},
   "source": [
    "## 8. Interactive Dashboard\n",
    "\n",
    "Create a comprehensive dashboard with all analysis results."
   ]
  },
  {
   "cell_type": "code",
   "execution_count": null,
   "metadata": {},
   "outputs": [],
   "source": [
    "# Create interactive dashboard\n",
    "print(\"Creating interactive dashboard...\")\n",
    "dashboard = visualizer.create_dashboard(activation_results)\n",
    "\n",
    "# Display the dashboard\n",
    "dashboard.show()\n",
    "\n",
    "# Save dashboard\n",
    "dashboard.write_html(\"../results/wavelet_analysis_dashboard.html\")\n",
    "print(\"Dashboard saved to '../results/wavelet_analysis_dashboard.html'\")"
   ]
  },
  {
   "cell_type": "markdown",
   "metadata": {},
   "source": [
    "## 9. Generate Comprehensive Report\n",
    "\n",
    "Create a detailed report of all findings with ethical considerations."
   ]
  },
  {
   "cell_type": "code",
   "execution_count": null,
   "metadata": {},
   "outputs": [],
   "source": [
    "# Generate comprehensive report\n",
    "report = analyzer.generate_report()\n",
    "print(report)\n",
    "\n",
    "# Save report to file\n",
    "os.makedirs('../results', exist_ok=True)\n",
    "with open('../results/wavelet_analysis_report.txt', 'w') as f:\n",
    "    f.write(report)\n",
    "\n",
    "print(\"\\n\" + \"=\"*80)\n",
    "print(\"Report saved to '../results/wavelet_analysis_report.txt'\")"
   ]
  },
  {
   "cell_type": "markdown",
   "metadata": {},
   "source": [
    "## 10. Export Results\n",
    "\n",
    "Export analysis results in multiple formats for further analysis."
   ]
  },
  {
   "cell_type": "code",
   "execution_count": null,
   "metadata": {},
   "outputs": [],
   "source": [
    "# Export results in different formats\n",
    "print(\"Exporting results...\")\n",
    "\n",
    "# JSON format (complete results)\n",
    "analyzer.export_results('../results/wavelet_results.json', 'json')\n",
    "print(\"✓ JSON results saved to '../results/wavelet_results.json'\")\n",
    "\n",
    "# CSV format (summary statistics)\n",
    "analyzer.export_results('../results/wavelet_summary.csv', 'csv')\n",
    "print(\"✓ CSV summary saved to '../results/wavelet_summary.csv'\")\n",
    "\n",
    "print(\"\\nAll exports completed successfully!\")"
   ]
  },
  {
   "cell_type": "markdown",
   "metadata": {},
   "source": [
    "## 11. Mathematical Cognition Insights\n",
    "\n",
    "Interpret the results in the context of mathematical cognition research."
   ]
  },
  {
   "cell_type": "code",
   "execution_count": null,
   "metadata": {},
   "outputs": [],
   "source": [
    "# Analyze results for mathematical cognition insights\n",
    "activation_maps = activation_results['activation_maps']\n",
    "similarity_metrics = activation_results['similarity_metrics']\n",
    "\n",
    "print(\"MATHEMATICAL COGNITION INSIGHTS:\")\n",
    "print(\"=\" * 50)\n",
    "\n",
    "# 1. Frequency band analysis\n",
    "print(\"\\n1. FREQUENCY BAND PATTERNS:\")\n",
    "for band, activation in activation_maps.items():\n",
    "    active_percent = 100 * np.sum(activation > 0) / len(activation)\n",
    "    mean_activation = np.mean(activation[activation > 0]) if np.any(activation > 0) else 0\n",
    "    \n",
    "    if band == 'very_slow':\n",
    "        interpretation = \"Default mode network deactivation/sustained attention\"\n",
    "    elif band == 'slow':\n",
    "        interpretation = \"Executive control and working memory\"\n",
    "    elif band == 'medium':\n",
    "        interpretation = \"Attention and cognitive processing\"\n",
    "    else:  # fast\n",
    "        interpretation = \"Task-specific mathematical operations\"\n",
    "    \n",
    "    print(f\"  • {band.upper()}: {active_percent:.1f}% active voxels\")\n",
    "    print(f\"    Mean activation: {mean_activation:.4f}\")\n",
    "    print(f\"    Likely reflects: {interpretation}\")\n",
    "\n",
    "# 2. Cross-frequency coupling\n",
    "print(\"\\n2. CROSS-FREQUENCY COUPLING:\")\n",
    "mean_similarity = similarity_metrics.get('mean_similarity', 0)\n",
    "print(f\"  • Mean cross-band similarity: {mean_similarity:.3f}\")\n",
    "if mean_similarity > 0.5:\n",
    "    print(\"    → High coupling suggests coordinated multi-frequency processing\")\n",
    "elif mean_similarity > 0.3:\n",
    "    print(\"    → Moderate coupling indicates some frequency coordination\")\n",
    "else:\n",
    "    print(\"    → Low coupling suggests independent frequency processing\")\n",
    "\n",
    "# 3. Ethical considerations\n",
    "print(\"\\n3. ETHICAL INTERPRETATION NOTES:\")\n",
    "print(\"  • Results emphasize common neural mechanisms across individuals\")\n",
    "print(\"  • Individual differences are preserved while highlighting similarities\")\n",
    "print(\"  • Findings should not be used to make discriminatory conclusions\")\n",
    "print(\"  • Cultural and educational factors should be considered\")\n",
    "\n",
    "# 4. Clinical/Educational implications\n",
    "print(\"\\n4. POTENTIAL APPLICATIONS:\")\n",
    "print(\"  • Understanding individual learning differences\")\n",
    "print(\"  • Developing personalized educational approaches\")\n",
    "print(\"  • Identifying neural markers of mathematical competence\")\n",
    "print(\"  • Supporting inclusive STEM education policies\")"
   ]
  },
  {
   "cell_type": "markdown",
   "metadata": {},
   "source": [
    "## 12. Next Steps and Future Directions\n",
    "\n",
    "Suggestions for extending this analysis and future research directions."
   ]
  },
  {
   "cell_type": "code",
   "execution_count": null,
   "metadata": {},
   "outputs": [],
   "source": [
    "print(\"NEXT STEPS AND FUTURE DIRECTIONS:\")\n",
    "print(\"=\" * 50)\n",
    "\n",
    "print(\"\\n📊 ANALYSIS EXTENSIONS:\")\n",
    "print(\"  1. Apply to real fMRI data with proper preprocessing\")\n",
    "print(\"  2. Include multiple subjects for group-level analysis\")\n",
    "print(\"  3. Compare different mathematical task types\")\n",
    "print(\"  4. Investigate developmental patterns across age groups\")\n",
    "print(\"  5. Examine cultural influences on neural patterns\")\n",
    "\n",
    "print(\"\\n🧠 METHODOLOGICAL IMPROVEMENTS:\")\n",
    "print(\"  1. Implement advanced wavelet techniques (e.g., synchrosqueezing)\")\n",
    "print(\"  2. Add connectivity analysis using wavelet coherence\")\n",
    "print(\"  3. Include machine learning classification methods\")\n",
    "print(\"  4. Develop real-time neurofeedback applications\")\n",
    "print(\"  5. Integrate with other neuroimaging modalities (EEG, MEG)\")\n",
    "\n",
    "print(\"\\n🎌 CULTURAL RESEARCH DIRECTIONS:\")\n",
    "print(\"  1. Compare Japanese vs. other cultural populations\")\n",
    "print(\"  2. Investigate educational system influences\")\n",
    "print(\"  3. Study stereotype threat effects on neural patterns\")\n",
    "print(\"  4. Examine multilingual mathematical processing\")\n",
    "print(\"  5. Research collectivist vs. individualist learning styles\")\n",
    "\n",
    "print(\"\\n🤖 AI AND ETHICS DEVELOPMENT:\")\n",
    "print(\"  1. Develop bias detection algorithms for neuroimaging\")\n",
    "print(\"  2. Create fair and inclusive analysis pipelines\")\n",
    "print(\"  3. Build interpretable AI models for brain analysis\")\n",
    "print(\"  4. Establish ethical guidelines for educational neuroscience\")\n",
    "print(\"  5. Promote open science and reproducible research\")\n",
    "\n",
    "print(\"\\n\" + \"=\"*50)\n",
    "print(\"Analysis complete! Thank you for using the MCP-fMRI wavelet analysis toolkit.\")\n",
    "print(\"Remember: Science advances through ethical research that benefits everyone.\")"
   ]
  }
 ],
 "metadata": {
  "kernelspec": {
   "display_name": "Python 3",
   "language": "python",
   "name": "python3"
  },
  "language_info": {
   "codemirror_mode": {
    "name": "ipython",
    "version": 3
   },
   "file_extension": ".py",
   "mimetype": "text/x-python",
   "name": "python",
   "nbconvert_exporter": "python",
   "pygments_lexer": "ipython3",
   "version": "3.8.0"
  }
 },
 "nbformat": 4,
 "nbformat_minor": 4
}